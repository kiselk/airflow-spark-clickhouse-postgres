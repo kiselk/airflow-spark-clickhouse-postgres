{
 "cells": [
  {
   "cell_type": "code",
   "execution_count": 51,
   "metadata": {},
   "outputs": [
    {
     "name": "stderr",
     "output_type": "stream",
     "text": [
      "                                                                                \r"
     ]
    },
    {
     "name": "stdout",
     "output_type": "stream",
     "text": [
      "List of Developers that own more than one repository\n",
      "List of Developers who did more than one commit in a day, ordered by name and number of commits\n",
      "List of Developers with less than one commit in a day\n",
      "Total Developers grouped by gender\n"
     ]
    },
    {
     "name": "stderr",
     "output_type": "stream",
     "text": [
      "                                                                                \r"
     ]
    },
    {
     "name": "stdout",
     "output_type": "stream",
     "text": [
      "+-------------+------+\n",
      "|       gender| count|\n",
      "+-------------+------+\n",
      "|mostly_female|  3506|\n",
      "|      unknown|683426|\n",
      "|       female| 14542|\n",
      "|         andy|  7972|\n",
      "|         male| 56585|\n",
      "|  mostly_male|  4400|\n",
      "+-------------+------+\n",
      "\n",
      "Total projects with more than 10 members\n"
     ]
    }
   ],
   "source": [
    "# Create Spark Context\n",
    "from pyspark import SparkContext\n",
    "from pyspark.sql import SparkSession, functions\n",
    "from pyspark.sql.types import StringType\n",
    "from pyspark.sql.functions import col, split, udf\n",
    "import gender_guesser.detector as gender\n",
    "from pyspark.sql.functions import udf\n",
    "import re\n",
    "import requests\n",
    "#sc = SparkContext()\n",
    "spark = (SparkSession\n",
    "         .builder\n",
    "         .getOrCreate()\n",
    "         )\n",
    "sc = spark.sparkContext\n",
    "gdetector = gender.Detector()\n",
    "\n",
    "def download(date):\n",
    "    paths = []\n",
    "    for hour in range(24):\n",
    "        prefix = date + '-' + str(hour)\n",
    "        url = 'https://data.gharchive.org/' + prefix + '.json.gz'\n",
    "        path = prefix + '.json.gz'\n",
    "        response = requests.get(url, stream=True)\n",
    "        open(path, 'wb').write(response.content)\n",
    "        paths.append(path)\n",
    "    return paths\n",
    "\n",
    "def detectGender():\n",
    "    def detectGender_(col):\n",
    "        #clean = re.sub('[^a-zA-Z]+', '', col)\n",
    "        names = re.sub( r\"([A-Z])\", r\" \\1\", col).split()\n",
    "        clean = re.sub('[^a-zA-Z]+', '', names[0])\n",
    "        #names = re.split('(?=[A-Z])', clean)\n",
    "        #print(clean)\n",
    "        return gdetector.get_gender(clean)\n",
    "    return udf(detectGender_, StringType())\n",
    "\n",
    "files = download('2022-09-19')\n",
    "json = spark.read.json(files)\n",
    "json.createOrReplaceTempView(\"github\")\n",
    "\n",
    "eventsDF = spark.sql(\"SELECT type,repo.name as owner_repo,actor.login as submitter FROM github\") \\\n",
    "        .withColumn(\"owner\", split(col(\"owner_repo\"),\"/\").getItem(0)) \\\n",
    "        .withColumn(\"repo\", split(col(\"owner_repo\"),\"/\").getItem(1)) \\\n",
    "        .drop(\"owner_repo\")\n",
    "\n",
    "commitsDF = eventsDF.where(\"type='PushEvent'\")\n",
    "submitsDF = commitsDF.groupBy('submitter').count()\n",
    "                           \n",
    "# List of Developers that own more than one repository;\n",
    "devsWithMoreThanOneRepoDF =eventsDF.drop('submitter','type').distinct().groupBy('owner').count().where(\"count > 1\").orderBy(col('count').desc())\n",
    "\n",
    "                           \n",
    "# List of Developers who did more than one commit in a day, ordered by name and number of commits;\n",
    "moreThanOneCommitSubmittersDF = submitsDF.where(\"count > 1\").orderBy(col('count').desc())\n",
    "# List of Developers with less than one commit in a day;\n",
    "lessThanOneCommitSubmittersDF = submitsDF.where(\"count <= 1\").orderBy(col('count').desc())\n",
    "\n",
    "# Total Developers grouped by gender;\n",
    "# API does not provide gender         \n",
    "namesDF = eventsDF.select('owner').withColumnRenamed('owner','name').union(eventsDF.select('submitter').withColumnRenamed('submitter','name')).distinct()\n",
    "gendersDF = namesDF.withColumn(\"gender\", detectGender()(\"name\")).groupBy(\"gender\").count()\n",
    "\n",
    "\n",
    "# Total projects with more than 10 members;\n",
    "#eventsDF.groupBy('owner').count()\n",
    "reposWithMoreThanTenMembersDF = eventsDF.drop('type').distinct().groupBy(\"owner\", \"repo\").count().where(\"count > 10\").orderBy(col('count').desc())\n",
    "\n",
    "\n",
    "\n",
    "print(\"List of Developers that own more than one repository\")                           \n",
    "devsWithMoreThanOneRepoDF.show()\n",
    "                           \n",
    "print(\"List of Developers who did more than one commit in a day, ordered by name and number of commits\")                           \n",
    "moreThanOneCommitSubmittersDF.show()\n",
    "                           \n",
    "print(\"List of Developers with less than one commit in a day\")                           \n",
    "lessThanOneCommitSubmittersDF.show()\n",
    "\n",
    "print(\"Total Developers grouped by gender\")                           \n",
    "gendersDF.show()\n",
    "\n",
    "print(\"Total projects with more than 10 members\")                           \n",
    "reposWithMoreThanTenMembersDF.show()"
   ]
  },
  {
   "cell_type": "code",
   "execution_count": null,
   "metadata": {},
   "outputs": [],
   "source": []
  }
 ],
 "metadata": {
  "kernelspec": {
   "display_name": "Python 3 (ipykernel)",
   "language": "python",
   "name": "python3"
  },
  "language_info": {
   "codemirror_mode": {
    "name": "ipython",
    "version": 3
   },
   "file_extension": ".py",
   "mimetype": "text/x-python",
   "name": "python",
   "nbconvert_exporter": "python",
   "pygments_lexer": "ipython3",
   "version": "3.9.7"
  },
  "vscode": {
   "interpreter": {
    "hash": "82ed002fa2d4956f5c6aec99bcefe0f73a9f79882f3c9e2319b14958a5896ac5"
   }
  }
 },
 "nbformat": 4,
 "nbformat_minor": 4
}
